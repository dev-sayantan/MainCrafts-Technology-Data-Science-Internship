{
  "nbformat": 4,
  "nbformat_minor": 0,
  "metadata": {
    "colab": {
      "provenance": [],
      "toc_visible": true,
      "authorship_tag": "ABX9TyPPSTszAHXK3N2vHmMwIKsD",
      "include_colab_link": true
    },
    "kernelspec": {
      "name": "python3",
      "display_name": "Python 3"
    },
    "language_info": {
      "name": "python"
    }
  },
  "cells": [
    {
      "cell_type": "markdown",
      "metadata": {
        "id": "view-in-github",
        "colab_type": "text"
      },
      "source": [
        "<a href=\"https://colab.research.google.com/github/dev-sayantan/MainCrafts-Technology-Data-Science-Internship/blob/main/student_analysis.ipynb\" target=\"_parent\"><img src=\"https://colab.research.google.com/assets/colab-badge.svg\" alt=\"Open In Colab\"/></a>"
      ]
    },
    {
      "cell_type": "markdown",
      "source": [
        "# <strong>Task 01 - <u>STUDENT PERFORMANCE DATA ANALYSIS</u></strong>\n",
        "\n",
        "\n",
        "---\n",
        "\n"
      ],
      "metadata": {
        "id": "kl3V2SVYtUk8"
      }
    },
    {
      "cell_type": "code",
      "source": [
        "# REQUIRED LIBRARY IMPORTS\n",
        "import pandas as pd"
      ],
      "metadata": {
        "id": "7RxCkG0cvUjx"
      },
      "execution_count": 1,
      "outputs": []
    },
    {
      "cell_type": "code",
      "source": [],
      "metadata": {
        "id": "J12uDHtc5lrx"
      },
      "execution_count": null,
      "outputs": []
    }
  ]
}